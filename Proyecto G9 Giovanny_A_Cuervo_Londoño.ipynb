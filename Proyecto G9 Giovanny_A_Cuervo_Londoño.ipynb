{
 "cells": [
  {
   "cell_type": "markdown",
   "metadata": {},
   "source": [
    "# Propuesta de Proyecto \n",
    "---\n",
    "\n",
    "**Giovanny Alejandro Cuervo Londoño**\n",
    "\n",
    "**Grupo 9** \n",
    "\n",
    "otros miembros: Jhon Freddy Sarmiento , Carlos Uriel y Diana Rincón\n"
   ]
  },
  {
   "cell_type": "markdown",
   "metadata": {},
   "source": [
    "# Propuesta de Proyecto\n",
    "---\n",
    "Consiste en entrenar una red neuronal que permita identificar la especie de mamífero marino por medio de su sonido característico, esto con un grado de precisión aceptable.\n",
    "\n",
    "Ej.\n",
    "Balaena mysticetus\n",
    "\n",
    "<img src=https://whoicf2.whoi.edu/science/B/whalesounds/images/Balaena-mysticetus.png width= 30%>\n",
    "\n",
    "Sonido: <a href=\"https://whoicf2.whoi.edu/science/B/whalesounds/WhaleSounds/72021005.wav\"> link"
   ]
  },
  {
   "cell_type": "markdown",
   "metadata": {},
   "source": [
    "## Base de Datos\n",
    "---\n",
    "\n",
    "**Watkins Marine Mammal Sound Database**\n",
    "\n",
    "Woods Hole Oceanographic Institution\n",
    "\n",
    "https://cis.whoi.edu/science/B/whalesounds/index.cfm\n",
    "\n",
    "Esta base de datos consiste en la recopilación de sonidos de 32 especies de mamíferos marinos durante un periodo de 7  décadas desde 1940 hasta 2000, para diferentes locaciones alrededor del mundo.\n",
    "\n",
    "<img src=https://cis.whoi.edu/science/B/whalesounds/WhaleSoundsLocations.png width=50%>"
   ]
  },
  {
   "cell_type": "code",
   "execution_count": null,
   "metadata": {},
   "outputs": [],
   "source": []
  }
 ],
 "metadata": {
  "kernelspec": {
   "display_name": "Python 3",
   "language": "python",
   "name": "python3"
  },
  "language_info": {
   "codemirror_mode": {
    "name": "ipython",
    "version": 3
   },
   "file_extension": ".py",
   "mimetype": "text/x-python",
   "name": "python",
   "nbconvert_exporter": "python",
   "pygments_lexer": "ipython3",
   "version": "3.8.3"
  }
 },
 "nbformat": 4,
 "nbformat_minor": 4
}
